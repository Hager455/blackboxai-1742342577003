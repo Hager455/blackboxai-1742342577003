{
 "cells": [
  {
   "cell_type": "markdown",
   "metadata": {},
   "source": [
    "# Biometric Verification System for Secure Voting\n",
    "\n",
    "This notebook demonstrates the implementation and usage of a multi-modal biometric verification system that combines:\n",
    "1. Face Spoof Detection\n",
    "2. Face Recognition\n",
    "3. Iris Detection\n",
    "4. Iris Recognition\n",
    "\n",
    "The system is designed to provide maximum security for voting applications."
   ]
  },
  {
   "cell_type": "markdown",
   "metadata": {},
   "source": [
    "## Setup and Installation\n",
    "\n",
    "First, let's mount Google Drive and install required dependencies."
   ]
  },
  {
   "cell_type": "code",
   "execution_count": null,
   "metadata": {},
   "source": [
    "from google.colab import drive\n",
    "drive.mount('/content/drive')\n",
    "\n",
    "# Clone the repository\n",
    "!git clone https://github.com/your-repo/biometric-verification.git\n",
    "!cd biometric-verification\n",
    "\n",
    "# Install dependencies\n",
    "!pip install -r biometric_models/colab_requirements.txt"
   ]
  },
  {
   "cell_type": "markdown",
   "metadata": {},
   "source": [
    "## Import Required Libraries"
   ]
  },
  {
   "cell_type": "code",
   "execution_count": null,
   "metadata": {},
   "source": [
    "import torch\n",
    "import torch.nn as nn\n",
    "import torchvision.transforms as transforms\n",
    "from PIL import Image\n",
    "import numpy as np\n",
    "import matplotlib.pyplot as plt\n",
    "from pathlib import Path\n",
    "import cv2\n",
    "\n",
    "from biometric_models.verify import BiometricVerifier\n",
    "from biometric_models.config import CONFIG"
   ]
  },
  {
   "cell_type": "markdown",
   "metadata": {},
   "source": [
    "## Initialize Biometric Verifier"
   ]
  },
  {
   "cell_type": "code",
   "execution_count": null,
   "metadata": {},
   "source": [
    "# Initialize the verifier\n",
    "verifier = BiometricVerifier(CONFIG)\n",
    "\n",
    "# Helper function to load and preprocess images\n",
    "def load_image(path):\n",
    "    image = Image.open(path).convert('RGB')\n",
    "    transform = transforms.Compose([\n",
    "        transforms.Resize((256, 256)),\n",
    "        transforms.ToTensor(),\n",
    "        transforms.Normalize(mean=[0.485, 0.456, 0.406], std=[0.229, 0.224, 0.225])\n",
    "    ])\n",
    "    return transform(image).unsqueeze(0)"
   ]
  },
  {
   "cell_type": "markdown",
   "metadata": {},
   "source": [
    "## Test Face Spoof Detection"
   ]
  },
  {
   "cell_type": "code",
   "execution_count": null,
   "metadata": {},
   "source": [
    "def test_face_spoof(image_path):\n",
    "    # Load and process image\n",
    "    image = load_image(image_path)\n",
    "    \n",
    "    # Perform spoof detection\n",
    "    result = verifier.verify_liveness(image)\n",
    "    \n",
    "    # Display results\n",
    "    plt.figure(figsize=(12, 4))\n",
    "    \n",
    "    plt.subplot(1, 2, 1)\n",
    "    plt.imshow(image.squeeze().permute(1, 2, 0))\n",
    "    plt.title('Input Image')\n",
    "    \n",
    "    plt.subplot(1, 2, 2)\n",
    "    plt.imshow(result['attention_map'].squeeze(), cmap='jet')\n",
    "    plt.title(f\"Attention Map\\nLiveness Score: {result['confidence']:.2f}\")\n",
    "    \n",
    "    plt.show()\n",
    "    \n",
    "    print(f\"Is Live: {result['is_live']}\")\n",
    "    print(f\"Confidence: {result['confidence']:.2f}\")"
   ]
  },
  {
   "cell_type": "markdown",
   "metadata": {},
   "source": [
    "## Test Face Recognition"
   ]
  },
  {
   "cell_type": "code",
   "execution_count": null,
   "metadata": {},
   "source": [
    "def test_face_recognition(probe_path, gallery_paths):\n",
    "    # Load probe image\n",
    "    probe_image = load_image(probe_path)\n",
    "    \n",
    "    # Create gallery embeddings\n",
    "    gallery_embeddings = {}\n",
    "    for identity, path in gallery_paths.items():\n",
    "        gallery_image = load_image(path)\n",
    "        embedding = verifier.face_recognizer.extract_features(gallery_image)\n",
    "        gallery_embeddings[identity] = {\n",
    "            'face_embedding': embedding\n",
    "        }\n",
    "    \n",
    "    # Compare with gallery\n",
    "    probe_embedding = verifier.face_recognizer.extract_features(probe_image)\n",
    "    result = verifier._verify_face_embedding(probe_embedding, gallery_embeddings)\n",
    "    \n",
    "    print(f\"Best Match: {result['identity']}\")\n",
    "    print(f\"Similarity: {result['similarity']:.2f}\")\n",
    "    print(f\"Match: {result['match']}\")"
   ]
  },
  {
   "cell_type": "markdown",
   "metadata": {},
   "source": [
    "## Test Iris Detection"
   ]
  },
  {
   "cell_type": "code",
   "execution_count": null,
   "metadata": {},
   "source": [
    "def test_iris_detection(image_path):\n",
    "    # Load and process image\n",
    "    image = load_image(image_path)\n",
    "    \n",
    "    # Perform iris detection\n",
    "    result = verifier.verify_iris_quality(image)\n",
    "    \n",
    "    # Display results\n",
    "    plt.figure(figsize=(12, 4))\n",
    "    \n",
    "    plt.subplot(1, 2, 1)\n",
    "    plt.imshow(image.squeeze().permute(1, 2, 0))\n",
    "    plt.title('Input Image')\n",
    "    \n",
    "    # Draw bounding box\n",
    "    if result['bbox']:\n",
    "        x1, y1, x2, y2 = result['bbox']\n",
    "        plt.gca().add_patch(plt.Rectangle((x1, y1), x2-x1, y2-y1,\n",
    "                                         fill=False, color='red', linewidth=2))\n",
    "    \n",
    "    plt.subplot(1, 2, 2)\n",
    "    plt.imshow(result['mask'].squeeze(), cmap='gray')\n",
    "    plt.title(f\"Iris Mask\\nQuality Score: {result['quality_score']:.2f}\")\n",
    "    \n",
    "    plt.show()\n",
    "    \n",
    "    print(f\"Is Valid: {result['is_valid']}\")\n",
    "    print(f\"Quality Score: {result['quality_score']:.2f}\")"
   ]
  },
  {
   "cell_type": "markdown",
   "metadata": {},
   "source": [
    "## Complete Verification Pipeline"
   ]
  },
  {
   "cell_type": "code",
   "execution_count": null,
   "metadata": {},
   "source": [
    "def verify_identity(face_path, iris_path, reference_embeddings):\n",
    "    # Load images\n",
    "    face_image = load_image(face_path)\n",
    "    iris_image = load_image(iris_path)\n",
    "    \n",
    "    # Perform complete verification\n",
    "    result = verifier.verify_identity(face_image, iris_image, reference_embeddings)\n",
    "    \n",
    "    print(\"Verification Results:\")\n",
    "    print(f\"Success: {result['success']}\")\n",
    "    if result['success']:\n",
    "        print(f\"Verified Identity: {result['verified_identity']}\")\n",
    "        print(f\"Final Score: {result['final_score']:.2f}\")\n",
    "        print(\"\\nStep-wise Results:\")\n",
    "        for step, details in result['steps'].items():\n",
    "            print(f\"\\n{step.replace('_', ' ').title()}:\")\n",
    "            for key, value in details.items():\n",
    "                if isinstance(value, float):\n",
    "                    print(f\"  {key}: {value:.2f}\")\n",
    "                else:\n",
    "                    print(f\"  {key}: {value}\")\n",
    "    else:\n",
    "        print(f\"Error: {result.get('error', 'Unknown error')}\")\n",
    "    \n",
    "    print(f\"\\nTotal Processing Time: {result['total_time']:.2f} seconds\")"
   ]
  },
  {
   "cell_type": "markdown",
   "metadata": {},
   "source": [
    "## Example Usage\n",
    "\n",
    "Now let's test the system with some example images."
   ]
  },
  {
   "cell_type": "code",
   "execution_count": null,
   "metadata": {},
   "source": [
    "# Test paths\n",
    "test_face = 'path/to/face/image.jpg'\n",
    "test_iris = 'path/to/iris/image.jpg'\n",
    "\n",
    "# Example gallery\n",
    "gallery_paths = {\n",
    "    'person1': 'path/to/person1/face.jpg',\n",
    "    'person2': 'path/to/person2/face.jpg'\n",
    "}\n",
    "\n",
    "# Test individual components\n",
    "print(\"Testing Face Spoof Detection...\")\n",
    "test_face_spoof(test_face)\n",
    "\n",
    "print(\"\\nTesting Face Recognition...\")\n",
    "test_face_recognition(test_face, gallery_paths)\n",
    "\n",
    "print(\"\\nTesting Iris Detection...\")\n",
    "test_iris_detection(test_iris)\n",
    "\n",
    "# Test complete pipeline\n",
    "print(\"\\nTesting Complete Verification Pipeline...\")\n",
    "verify_identity(test_face, test_iris, reference_embeddings)"
   ]
  }
 ],
 "metadata": {
  "accelerator": "GPU",
  "colab": {
   "name": "BiometricVerification.ipynb",
   "provenance": []
  },
  "kernelspec": {
   "display_name": "Python 3",
   "language": "python",
   "name": "python3"
  },
  "language_info": {
   "codemirror_mode": {
    "name": "ipython",
    "version": 3
   },
   "file_extension": ".py",
   "mimetype": "text/x-python",
   "name": "python",
   "nbconvert_exporter": "python",
   "pygments_lexer": "ipython3",
   "version": "3.8.0"
  }
 },
 "nbformat": 4,
 "nbformat_minor": 4
}
